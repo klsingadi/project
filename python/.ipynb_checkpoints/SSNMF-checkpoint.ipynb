{
 "cells": [
  {
   "cell_type": "code",
   "execution_count": 23,
   "metadata": {
    "collapsed": true
   },
   "outputs": [],
   "source": [
    "import scipy.io as sio\n",
    "import numpy as np"
   ]
  },
  {
   "cell_type": "code",
   "execution_count": 24,
   "metadata": {
    "collapsed": true
   },
   "outputs": [],
   "source": [
    "data=sio.loadmat('tcgabrca_molecular_data_shuffled.mat')"
   ]
  },
  {
   "cell_type": "code",
   "execution_count": 25,
   "metadata": {},
   "outputs": [
    {
     "data": {
      "text/plain": [
       "[('labelshuffled', (1, 380), 'double'),\n",
       " ('methylshuffled', (574, 380), 'double'),\n",
       " ('mirnashuffled', (1046, 380), 'double'),\n",
       " ('patientidshuffled', (380,), 'char'),\n",
       " ('rnashuffled', (17814, 380), 'double'),\n",
       " ('rppashuffled', (171, 380), 'double')]"
      ]
     },
     "execution_count": 25,
     "metadata": {},
     "output_type": "execute_result"
    }
   ],
   "source": [
    "sio.whosmat('tcgabrca_molecular_data_shuffled.mat')"
   ]
  },
  {
   "cell_type": "code",
   "execution_count": 26,
   "metadata": {
    "collapsed": true
   },
   "outputs": [],
   "source": [
    "labelshuffled=data['labelshuffled']\n",
    "methylshuffled=data['methylshuffled']\n",
    "mirnashuffled=data['mirnashuffled']\n",
    "patientidshuffled=data['patientidshuffled']\n",
    "rnashuffled=data['rnashuffled']\n",
    "rppashuffled=data['rppashuffled']"
   ]
  },
  {
   "cell_type": "code",
   "execution_count": 27,
   "metadata": {},
   "outputs": [
    {
     "data": {
      "text/plain": [
       "array([[ 0.51349899,  0.09802236,  0.11117684, ...,  0.49445084,\n",
       "         0.11807154,  0.56937541],\n",
       "       [ 0.44184436,  0.24071421,  0.15905002, ...,  0.08848342,\n",
       "         0.21279433,  0.42718625],\n",
       "       [ 0.11232587,  0.06711152,  0.08982711, ...,  0.04708886,\n",
       "         0.08117119,  0.07514712],\n",
       "       ..., \n",
       "       [ 0.14968153,  0.13361364,  0.29870317, ...,  0.32186263,\n",
       "         0.37172342,  0.13413438],\n",
       "       [ 0.05477097,  0.06557652,  0.06575568, ...,  0.06795239,\n",
       "         0.05347664,  0.84525458],\n",
       "       [ 0.19690799,  0.14867467,  0.44637444, ...,  0.07732542,\n",
       "         0.08477664,  0.09272374]])"
      ]
     },
     "execution_count": 27,
     "metadata": {},
     "output_type": "execute_result"
    }
   ],
   "source": [
    "rppashuffled\n",
    "rnashuffled\n",
    "mirnashuffled\n",
    "methylshuffled"
   ]
  },
  {
   "cell_type": "code",
   "execution_count": null,
   "metadata": {
    "collapsed": true
   },
   "outputs": [],
   "source": []
  },
  {
   "cell_type": "code",
   "execution_count": 28,
   "metadata": {
    "scrolled": true
   },
   "outputs": [],
   "source": [
    "def ssnmf(Y, R=3, n_iter=50, F=[], init_G=[], init_H=[], init_U=[], verbose=False):\n",
    "    \"\"\"\n",
    "    decompose non-negative matrix to components and activation with semi-supervised NMF\n",
    "\n",
    "    Y ≈ FG + HU\n",
    "    Y ∈ R (m, n)\n",
    "    F ∈ R (m, x)\n",
    "    G ∈ R (x, n)\n",
    "    H ∈ R (m, k)\n",
    "    U ∈ R (k, n)\n",
    "\n",
    "    parameters\n",
    "    ----\n",
    "    Y: target matrix to decompose\n",
    "    R: number of bases to decompose\n",
    "    n_iter: number for executing objective function to optimize\n",
    "    F: matrix as supervised base components\n",
    "    init_W: initial value of W matrix. default value is random matrix\n",
    "    init_H: initial value of W matrix. default value is random matrix\n",
    "\n",
    "    return\n",
    "    ----\n",
    "    Array of:\n",
    "    0: matrix of F\n",
    "    1: matrix of G\n",
    "    2: matrix of H\n",
    "    3: matrix of U\n",
    "    4: array of cost transition\n",
    "    \"\"\"\n",
    "\n",
    "    eps = np.spacing(1)\n",
    "\n",
    "    # size of input spectrogram\n",
    "    M = Y.shape[0];\n",
    "    N = Y.shape[1];\n",
    "    X = F.shape[1]\n",
    "\n",
    "    # initialization\n",
    "    if len(init_G):\n",
    "        G = init_G\n",
    "        X = init_G.shape[1]\n",
    "    else:\n",
    "        G = np.random.rand(X, N)\n",
    "\n",
    "    if len(init_U):\n",
    "        U = init_U\n",
    "        R = init_U.shape[0]\n",
    "    else:\n",
    "        U = np.random.rand(R, N)\n",
    "\n",
    "    if len(init_H):\n",
    "        H = init_H\n",
    "        R = init_H.shape[1]\n",
    "    else:\n",
    "        H = np.random.rand(M, R)\n",
    "\n",
    "    # array to save the value of the euclid divergence\n",
    "    cost = np.zeros(n_iter)\n",
    "\n",
    "    # computation of Lambda (estimate of Y)\n",
    "    Lambda = np.dot(F, G) + np.dot(H, U)\n",
    "\n",
    "    # iterative computation\n",
    "    for it in range(n_iter):\n",
    "\n",
    "        # compute euclid divergence\n",
    "        cost[it] = euclid_divergence(Y, Lambda + eps)\n",
    "\n",
    "        # update of H\n",
    "        H *= (np.dot(Y, U.T) + eps) / (np.dot(np.dot(H, U) + np.dot(F, G), U.T) + eps)\n",
    "\n",
    "        # update of U\n",
    "        U *= (np.dot(H.T, Y) + eps) / (np.dot(H.T, np.dot(H, U) + np.dot(F, G)) + eps)\n",
    "\n",
    "        # update of G\n",
    "        G *= (np.dot(F.T, Y) + eps)[np.arange(G.shape[0])] / (np.dot(F.T, np.dot(H, U) + np.dot(F, G)) + eps)\n",
    "\n",
    "        # recomputation of Lambda (estimate of V)\n",
    "        Lambda = np.dot(H, U) + np.dot(F, G)\n",
    "\n",
    "    return [F, G, H, U, cost]"
   ]
  },
  {
   "cell_type": "code",
   "execution_count": 29,
   "metadata": {
    "scrolled": true
   },
   "outputs": [],
   "source": [
    "def nmf(Y, R=3, n_iter=50, init_H=[], init_U=[], verbose=False):\n",
    "    \"\"\"\n",
    "    decompose non-negative matrix to components and activation with NMF\n",
    "\n",
    "    Y ≈ HU\n",
    "    Y ∈ R (m, n)\n",
    "    H ∈ R (m, k)\n",
    "    HU ∈ R (k, n)\n",
    "\n",
    "    parameters\n",
    "    ----\n",
    "    Y: target matrix to decompose\n",
    "    R: number of bases to decompose\n",
    "    n_iter: number for executing objective function to optimize\n",
    "    init_H: initial value of H matrix. default value is random matrix\n",
    "    init_U: initial value of U matrix. default value is random matrix\n",
    "\n",
    "    return\n",
    "    ----\n",
    "    Array of:\n",
    "    0: matrix of H\n",
    "    1: matrix of U\n",
    "    2: array of cost transition\n",
    "    \"\"\"\n",
    "\n",
    "    eps = np.spacing(1)\n",
    "\n",
    "    # size of input spectrogram\n",
    "    M = Y.shape[0]\n",
    "    N = Y.shape[1]\n",
    "\n",
    "    # initialization\n",
    "    if len(init_U):\n",
    "        U = init_U\n",
    "        R = init_U.shape[0]\n",
    "    else:\n",
    "        U = np.random.rand(R,N);\n",
    "\n",
    "    if len(init_H):\n",
    "        H = init_H;\n",
    "        R = init_H.shape[1]\n",
    "    else:\n",
    "        H = np.random.rand(M,R)\n",
    "\n",
    "    # array to save the value of the euclid divergence\n",
    "    cost = np.zeros(n_iter)\n",
    "\n",
    "    # computation of Lambda (estimate of Y)\n",
    "    Lambda = np.dot(H, U)\n",
    "\n",
    "    # iterative computation\n",
    "    for i in range(n_iter):\n",
    "\n",
    "        # compute euclid divergence\n",
    "        cost[i] = euclid_divergence(Y, Lambda)\n",
    "\n",
    "        # update H\n",
    "        H *= np.dot(Y, U.T) / (np.dot(np.dot(H, U), U.T) + eps)\n",
    "\n",
    "        # update U\n",
    "        U *= np.dot(H.T, Y) / (np.dot(np.dot(H.T, H), U) + eps)\n",
    "\n",
    "        # recomputation of Lambda\n",
    "        Lambda = np.dot(H, U)\n",
    "\n",
    "    return [H, U, cost]"
   ]
  },
  {
   "cell_type": "code",
   "execution_count": 30,
   "metadata": {
    "scrolled": true
   },
   "outputs": [],
   "source": [
    "def euclid_divergence(V, Vh):\n",
    "    d = 1 / 2 * (V ** 2 + Vh ** 2 - 2 * V * Vh).sum()\n",
    "    return d"
   ]
  },
  {
   "cell_type": "code",
   "execution_count": 31,
   "metadata": {
    "scrolled": true
   },
   "outputs": [],
   "source": [
    "label_train = labelshuffled[:,0:300]\n",
    "label_test = labelshuffled[:,300:380]\n",
    "methyl_train = methylshuffled[:,0:300]\n",
    "methyl_test = methylshuffled[:,300:380]"
   ]
  },
  {
   "cell_type": "code",
   "execution_count": 33,
   "metadata": {
    "scrolled": true
   },
   "outputs": [
    {
     "ename": "AttributeError",
     "evalue": "'list' object has no attribute 'shape'",
     "output_type": "error",
     "traceback": [
      "\u001b[0;31m---------------------------------------------------------------------------\u001b[0m",
      "\u001b[0;31mAttributeError\u001b[0m                            Traceback (most recent call last)",
      "\u001b[0;32m<ipython-input-33-2fcebc9af4c3>\u001b[0m in \u001b[0;36m<module>\u001b[0;34m()\u001b[0m\n\u001b[0;32m----> 1\u001b[0;31m \u001b[0mssnmf\u001b[0m\u001b[0;34m(\u001b[0m\u001b[0mmethyl_train\u001b[0m\u001b[0;34m)\u001b[0m\u001b[0;34m\u001b[0m\u001b[0m\n\u001b[0m",
      "\u001b[0;32m<ipython-input-28-8e19dd1c5861>\u001b[0m in \u001b[0;36mssnmf\u001b[0;34m(Y, R, n_iter, F, init_G, init_H, init_U, verbose)\u001b[0m\n\u001b[1;32m     34\u001b[0m     \u001b[0mM\u001b[0m \u001b[0;34m=\u001b[0m \u001b[0mY\u001b[0m\u001b[0;34m.\u001b[0m\u001b[0mshape\u001b[0m\u001b[0;34m[\u001b[0m\u001b[0;36m0\u001b[0m\u001b[0;34m]\u001b[0m\u001b[0;34m;\u001b[0m\u001b[0;34m\u001b[0m\u001b[0m\n\u001b[1;32m     35\u001b[0m     \u001b[0mN\u001b[0m \u001b[0;34m=\u001b[0m \u001b[0mY\u001b[0m\u001b[0;34m.\u001b[0m\u001b[0mshape\u001b[0m\u001b[0;34m[\u001b[0m\u001b[0;36m1\u001b[0m\u001b[0;34m]\u001b[0m\u001b[0;34m;\u001b[0m\u001b[0;34m\u001b[0m\u001b[0m\n\u001b[0;32m---> 36\u001b[0;31m     \u001b[0mX\u001b[0m \u001b[0;34m=\u001b[0m \u001b[0mF\u001b[0m\u001b[0;34m.\u001b[0m\u001b[0mshape\u001b[0m\u001b[0;34m[\u001b[0m\u001b[0;36m1\u001b[0m\u001b[0;34m]\u001b[0m\u001b[0;34m\u001b[0m\u001b[0m\n\u001b[0m\u001b[1;32m     37\u001b[0m \u001b[0;34m\u001b[0m\u001b[0m\n\u001b[1;32m     38\u001b[0m     \u001b[0;31m# initialization\u001b[0m\u001b[0;34m\u001b[0m\u001b[0;34m\u001b[0m\u001b[0m\n",
      "\u001b[0;31mAttributeError\u001b[0m: 'list' object has no attribute 'shape'"
     ]
    }
   ],
   "source": [
    "ssnmf(methyl_train)"
   ]
  },
  {
   "cell_type": "code",
   "execution_count": 7,
   "metadata": {},
   "outputs": [
    {
     "data": {
      "text/plain": [
       "array([[2, 2, 3, 2, 3, 2, 1, 3, 1, 3, 0, 0, 2, 2, 0, 3, 2, 3, 3, 3, 3, 2,\n",
       "        2, 3, 3, 3, 3, 0, 2, 3, 2, 2, 1, 1, 2, 3, 2, 2, 3, 2, 2, 3, 0, 0,\n",
       "        1, 2, 0, 0, 0, 1, 3, 2, 2, 2, 2, 3, 3, 1, 2, 1, 2, 0, 2, 2, 2, 2,\n",
       "        2, 1, 2, 3, 0, 3, 2, 0, 2, 2, 2, 2, 2, 2, 3, 1, 2, 1, 2, 2, 0, 0,\n",
       "        2, 2, 2, 3, 3, 2, 1, 2, 2, 1, 0, 2, 2, 2, 0, 0, 2, 2, 2, 2, 0, 2,\n",
       "        2, 0, 0, 0, 3, 2, 0, 0, 1, 0, 2, 3, 3, 2, 3, 3, 3, 0, 2, 3, 2, 2,\n",
       "        2, 2, 0, 2, 2, 2, 3, 3, 3, 2, 2, 0, 3, 3, 1, 3, 2, 2, 1, 0, 1, 3,\n",
       "        2, 2, 2, 2, 2, 3, 0, 2, 0, 3, 1, 1, 2, 2, 3, 1, 1, 3, 0, 0, 2, 0,\n",
       "        2, 2, 1, 0, 0, 2, 1, 2, 3, 2, 2, 1, 1, 3, 1, 2, 3, 2, 2, 2, 2, 2,\n",
       "        2, 0, 0, 2, 2, 3, 2, 1, 1, 1, 2, 1, 2, 1, 2, 3, 3, 2, 2, 0, 0, 3,\n",
       "        0, 3, 3, 2, 3, 2, 3, 2, 2, 3, 2, 0, 0, 2, 0, 0, 2, 2, 0, 1, 3, 3,\n",
       "        2, 2, 0, 1, 0, 2, 3, 0, 3, 1, 3, 3, 2, 2, 0, 3, 2, 3, 0, 1, 2, 2,\n",
       "        2, 2, 0, 0, 2, 0, 2, 2, 2, 2, 2, 3, 2, 3, 0, 0, 3, 1, 2, 0, 1, 0,\n",
       "        0, 2, 2, 1, 3, 3, 1, 3, 3, 3, 1, 2, 2, 3, 0, 3, 0, 0, 2, 2, 2, 2,\n",
       "        2, 3, 2, 2, 0, 3, 1, 2, 0, 3, 0, 0, 1, 2, 3, 3, 0, 2, 3, 3, 3, 2,\n",
       "        2, 0, 2, 2, 3, 3, 3, 2, 2, 3, 2, 0, 2, 2, 2, 2, 2, 2, 3, 3, 0, 2,\n",
       "        1, 2, 2, 3, 2, 0, 3, 3, 1, 2, 3, 1, 2, 0, 0, 3, 2, 0, 0, 2, 1, 0,\n",
       "        3, 2, 2, 2, 2, 0]], dtype=uint8)"
      ]
     },
     "execution_count": 7,
     "metadata": {},
     "output_type": "execute_result"
    }
   ],
   "source": [
    "labelshuffled"
   ]
  },
  {
   "cell_type": "code",
   "execution_count": null,
   "metadata": {
    "collapsed": true
   },
   "outputs": [],
   "source": []
  }
 ],
 "metadata": {
  "kernelspec": {
   "display_name": "Python 3",
   "language": "python",
   "name": "python3"
  },
  "language_info": {
   "codemirror_mode": {
    "name": "ipython",
    "version": 3
   },
   "file_extension": ".py",
   "mimetype": "text/x-python",
   "name": "python",
   "nbconvert_exporter": "python",
   "pygments_lexer": "ipython3",
   "version": "3.6.1"
  }
 },
 "nbformat": 4,
 "nbformat_minor": 2
}
